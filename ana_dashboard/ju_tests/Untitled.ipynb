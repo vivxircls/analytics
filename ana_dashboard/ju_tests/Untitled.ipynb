{
 "cells": [
  {
   "cell_type": "code",
   "execution_count": 1,
   "id": "99675fa4",
   "metadata": {},
   "outputs": [],
   "source": [
    "from pandas import *\n",
    "import numpy as np"
   ]
  },
  {
   "cell_type": "code",
   "execution_count": 2,
   "id": "357ccaca",
   "metadata": {},
   "outputs": [],
   "source": [
    "df=read_csv('top_products.csv')"
   ]
  },
  {
   "cell_type": "code",
   "execution_count": 6,
   "id": "8caecff8",
   "metadata": {},
   "outputs": [],
   "source": [
    "df=df.groupby(\"node.title\").sum()"
   ]
  },
  {
   "cell_type": "code",
   "execution_count": 7,
   "id": "4678ec33",
   "metadata": {},
   "outputs": [
    {
     "data": {
      "text/html": [
       "<div>\n",
       "<style scoped>\n",
       "    .dataframe tbody tr th:only-of-type {\n",
       "        vertical-align: middle;\n",
       "    }\n",
       "\n",
       "    .dataframe tbody tr th {\n",
       "        vertical-align: top;\n",
       "    }\n",
       "\n",
       "    .dataframe thead th {\n",
       "        text-align: right;\n",
       "    }\n",
       "</style>\n",
       "<table border=\"1\" class=\"dataframe\">\n",
       "  <thead>\n",
       "    <tr style=\"text-align: right;\">\n",
       "      <th></th>\n",
       "      <th>node.quantity</th>\n",
       "      <th>node.originalTotal</th>\n",
       "    </tr>\n",
       "    <tr>\n",
       "      <th>node.title</th>\n",
       "      <th></th>\n",
       "      <th></th>\n",
       "    </tr>\n",
       "  </thead>\n",
       "  <tbody>\n",
       "    <tr>\n",
       "      <th>5 in 1 Brightening Cream</th>\n",
       "      <td>24</td>\n",
       "      <td>5880.0</td>\n",
       "    </tr>\n",
       "    <tr>\n",
       "      <th>5 in 1 Brightening Cream-</th>\n",
       "      <td>1</td>\n",
       "      <td>199.0</td>\n",
       "    </tr>\n",
       "    <tr>\n",
       "      <th>6-in-1 Premium Shaving Kit For Men</th>\n",
       "      <td>2</td>\n",
       "      <td>6250.0</td>\n",
       "    </tr>\n",
       "    <tr>\n",
       "      <th>6-in-1 Sensi Luxe Shaving Kit</th>\n",
       "      <td>10</td>\n",
       "      <td>19990.0</td>\n",
       "    </tr>\n",
       "    <tr>\n",
       "      <th>Anti Acne Face Wash, 150g</th>\n",
       "      <td>31</td>\n",
       "      <td>10819.0</td>\n",
       "    </tr>\n",
       "    <tr>\n",
       "      <th>...</th>\n",
       "      <td>...</td>\n",
       "      <td>...</td>\n",
       "    </tr>\n",
       "    <tr>\n",
       "      <th>Veleno Perfume, 30ml</th>\n",
       "      <td>22</td>\n",
       "      <td>17490.0</td>\n",
       "    </tr>\n",
       "    <tr>\n",
       "      <th>Venice, 30ml</th>\n",
       "      <td>371</td>\n",
       "      <td>554645.0</td>\n",
       "    </tr>\n",
       "    <tr>\n",
       "      <th>Vitamin C Face Serum, 30ML</th>\n",
       "      <td>62</td>\n",
       "      <td>36890.0</td>\n",
       "    </tr>\n",
       "    <tr>\n",
       "      <th>Wanderlust Perfume Kit For Men</th>\n",
       "      <td>1</td>\n",
       "      <td>1495.0</td>\n",
       "    </tr>\n",
       "    <tr>\n",
       "      <th>razor cartridges</th>\n",
       "      <td>1</td>\n",
       "      <td>285.0</td>\n",
       "    </tr>\n",
       "  </tbody>\n",
       "</table>\n",
       "<p>141 rows × 2 columns</p>\n",
       "</div>"
      ],
      "text/plain": [
       "                                    node.quantity  node.originalTotal\n",
       "node.title                                                           \n",
       "5 in 1 Brightening Cream                       24              5880.0\n",
       "5 in 1 Brightening Cream-                       1               199.0\n",
       "6-in-1 Premium Shaving Kit For Men              2              6250.0\n",
       "6-in-1 Sensi Luxe Shaving Kit                  10             19990.0\n",
       "Anti Acne Face Wash, 150g                      31             10819.0\n",
       "...                                           ...                 ...\n",
       "Veleno Perfume, 30ml                           22             17490.0\n",
       "Venice, 30ml                                  371            554645.0\n",
       "Vitamin C Face Serum, 30ML                     62             36890.0\n",
       "Wanderlust Perfume Kit For Men                  1              1495.0\n",
       "razor cartridges                                1               285.0\n",
       "\n",
       "[141 rows x 2 columns]"
      ]
     },
     "execution_count": 7,
     "metadata": {},
     "output_type": "execute_result"
    }
   ],
   "source": [
    "df"
   ]
  },
  {
   "cell_type": "code",
   "execution_count": 8,
   "id": "5cd26c07",
   "metadata": {},
   "outputs": [
    {
     "data": {
      "text/plain": [
       "['Venice, 30ml',\n",
       " 'Veleno EDT, 100 ml',\n",
       " 'Power Styler Beard Trimmer',\n",
       " 'Vitamin C Face Serum, 30ML',\n",
       " 'Full Body Trimmer',\n",
       " 'Mexico, 100 ml',\n",
       " 'Moisturising Bath Soap (Pack of 3)',\n",
       " 'Black Vibe Deo For Men, 150ml',\n",
       " 'Oudh Body Spray, 150ml',\n",
       " 'Premium MultiGroomer']"
      ]
     },
     "execution_count": 8,
     "metadata": {},
     "output_type": "execute_result"
    }
   ],
   "source": [
    "list(df.sort_values('node.originalTotal',ascending=False).index[:10])"
   ]
  },
  {
   "cell_type": "code",
   "execution_count": null,
   "id": "cdf2ae7a",
   "metadata": {},
   "outputs": [],
   "source": [
    "    path('fetchUser',fetchUser, name = \"FetchData\"),\n",
    "    # path('businessCreate',businessCreation, name = \"BusinessCreate\"),\n",
    "    path('partner_webhook/',partner_webhook, name=\"PartnerWebhook\"),\n",
    "    path('createTemplate/',createTemplate, name = 'CreateTemplate'),\n",
    "    path('fbVerification/',fbStatus, name = \"FbBusinessManagerVerificationStatus\"),\n",
    "    path('getTemplates/', getTemplates, name = 'GetAllTemplates'),\n",
    "    path('projectCreation/',projectCreation, name = 'projectCreation')"
   ]
  },
  {
   "cell_type": "code",
   "execution_count": null,
   "id": "f832ac65",
   "metadata": {},
   "outputs": [],
   "source": [
    "fetchUser(request):\n",
    "    if request.method == \"POST\":\n",
    "        data = json.loads(request.body)\n",
    "        name = data.get('fullName')\n",
    "        email = data.get('email')\n",
    "        industry = data.get('industry')\n",
    "        company = data.get('companyName')\n",
    "        companySize = data.get('companySize')\n",
    "        timezone = data.get('timezone')\n",
    "        contact = data.get('mobileNumber')\n",
    "        countryCode = data.get('countryCode')\n",
    "        password = data.get('password')\n",
    "        phone = countryCode + contact\n",
    "        print(\"The contact number is\",phone)"
   ]
  },
  {
   "cell_type": "code",
   "execution_count": null,
   "id": "44ca9e96",
   "metadata": {},
   "outputs": [],
   "source": [
    "def projectCreation(request):\n",
    "    data = json.loads(request.body.decode('utf-8'))\n",
    "    name = data['projectName']"
   ]
  },
  {
   "cell_type": "code",
   "execution_count": null,
   "id": "2ff2ff4d",
   "metadata": {},
   "outputs": [],
   "source": [
    " https://ff21-2405-201-7-8937-c775-dbe1-c504-a91b.ngrok-free.app"
   ]
  }
 ],
 "metadata": {
  "kernelspec": {
   "display_name": "Python 3",
   "language": "python",
   "name": "python3"
  },
  "language_info": {
   "codemirror_mode": {
    "name": "ipython",
    "version": 3
   },
   "file_extension": ".py",
   "mimetype": "text/x-python",
   "name": "python",
   "nbconvert_exporter": "python",
   "pygments_lexer": "ipython3",
   "version": "3.6.9"
  }
 },
 "nbformat": 4,
 "nbformat_minor": 5
}
