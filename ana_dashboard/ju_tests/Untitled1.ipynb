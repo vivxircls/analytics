{
 "cells": [
  {
   "cell_type": "code",
   "execution_count": 1,
   "id": "cc999e16",
   "metadata": {},
   "outputs": [],
   "source": [
    "from pandas import *\n",
    "import numpy as np\n",
    "import sqlalchemy"
   ]
  },
  {
   "cell_type": "code",
   "execution_count": 8,
   "id": "b811bcf7",
   "metadata": {},
   "outputs": [],
   "source": [
    "df=read_csv(\"insights.csv\")\n",
    "df1=read_csv(\"insights1.csv\")"
   ]
  },
  {
   "cell_type": "code",
   "execution_count": 9,
   "id": "0ba82d1b",
   "metadata": {},
   "outputs": [
    {
     "data": {
      "text/html": [
       "<div>\n",
       "<style scoped>\n",
       "    .dataframe tbody tr th:only-of-type {\n",
       "        vertical-align: middle;\n",
       "    }\n",
       "\n",
       "    .dataframe tbody tr th {\n",
       "        vertical-align: top;\n",
       "    }\n",
       "\n",
       "    .dataframe thead th {\n",
       "        text-align: right;\n",
       "    }\n",
       "</style>\n",
       "<table border=\"1\" class=\"dataframe\">\n",
       "  <thead>\n",
       "    <tr style=\"text-align: right;\">\n",
       "      <th></th>\n",
       "      <th>datacount</th>\n",
       "      <th>datacount_for_customers</th>\n",
       "    </tr>\n",
       "  </thead>\n",
       "  <tbody>\n",
       "    <tr>\n",
       "      <th>0</th>\n",
       "      <td>822</td>\n",
       "      <td>548</td>\n",
       "    </tr>\n",
       "  </tbody>\n",
       "</table>\n",
       "</div>"
      ],
      "text/plain": [
       "   datacount  datacount_for_customers\n",
       "0        822                      548"
      ]
     },
     "execution_count": 9,
     "metadata": {},
     "output_type": "execute_result"
    }
   ],
   "source": [
    "df"
   ]
  },
  {
   "cell_type": "code",
   "execution_count": 10,
   "id": "0bc993c7",
   "metadata": {
    "scrolled": true
   },
   "outputs": [
    {
     "data": {
      "text/html": [
       "<div>\n",
       "<style scoped>\n",
       "    .dataframe tbody tr th:only-of-type {\n",
       "        vertical-align: middle;\n",
       "    }\n",
       "\n",
       "    .dataframe tbody tr th {\n",
       "        vertical-align: top;\n",
       "    }\n",
       "\n",
       "    .dataframe thead th {\n",
       "        text-align: right;\n",
       "    }\n",
       "</style>\n",
       "<table border=\"1\" class=\"dataframe\">\n",
       "  <thead>\n",
       "    <tr style=\"text-align: right;\">\n",
       "      <th></th>\n",
       "      <th>mssg</th>\n",
       "      <th>total_quantity</th>\n",
       "      <th>total_price</th>\n",
       "      <th>total_order</th>\n",
       "      <th>total_return_quantity</th>\n",
       "      <th>return_rate</th>\n",
       "      <th>average_order_value</th>\n",
       "      <th>average_units_ordered</th>\n",
       "      <th>return_customer_rate</th>\n",
       "      <th>unique_users</th>\n",
       "    </tr>\n",
       "  </thead>\n",
       "  <tbody>\n",
       "    <tr>\n",
       "      <th>0</th>\n",
       "      <td>data processed successfully</td>\n",
       "      <td>2778</td>\n",
       "      <td>599841.0</td>\n",
       "      <td>822</td>\n",
       "      <td>93.0</td>\n",
       "      <td>3.35</td>\n",
       "      <td>729.73</td>\n",
       "      <td>3.38</td>\n",
       "      <td>4.72</td>\n",
       "      <td>784</td>\n",
       "    </tr>\n",
       "  </tbody>\n",
       "</table>\n",
       "</div>"
      ],
      "text/plain": [
       "                          mssg  total_quantity  total_price  total_order  \\\n",
       "0  data processed successfully            2778     599841.0          822   \n",
       "\n",
       "   total_return_quantity  return_rate  average_order_value  \\\n",
       "0                   93.0         3.35               729.73   \n",
       "\n",
       "   average_units_ordered  return_customer_rate  unique_users  \n",
       "0                   3.38                  4.72           784  "
      ]
     },
     "execution_count": 10,
     "metadata": {},
     "output_type": "execute_result"
    }
   ],
   "source": [
    "df1"
   ]
  },
  {
   "cell_type": "code",
   "execution_count": 20,
   "id": "393d827d",
   "metadata": {},
   "outputs": [],
   "source": [
    "df_insights=concat([df,df1],axis=1)"
   ]
  },
  {
   "cell_type": "code",
   "execution_count": 2,
   "id": "6ca52088",
   "metadata": {},
   "outputs": [],
   "source": [
    "user = 'root'\n",
    "password = 'root'\n",
    "host = '127.0.0.1'\n",
    "port = 3306\n",
    "database = 'shops_insights'"
   ]
  },
  {
   "cell_type": "code",
   "execution_count": 3,
   "id": "e2242461",
   "metadata": {},
   "outputs": [],
   "source": [
    "engine=sqlalchemy.create_engine(\n",
    "     url=f\"mysql+pymysql://{user}:{password}@{host}:{port}/{database}\"\n",
    ")"
   ]
  },
  {
   "cell_type": "code",
   "execution_count": 4,
   "id": "9f18f651",
   "metadata": {},
   "outputs": [],
   "source": [
    "dff=read_sql_table(\"bombayshavinginsights\",engine)"
   ]
  },
  {
   "cell_type": "code",
   "execution_count": 5,
   "id": "2788d7cd",
   "metadata": {},
   "outputs": [
    {
     "data": {
      "text/html": [
       "<div>\n",
       "<style scoped>\n",
       "    .dataframe tbody tr th:only-of-type {\n",
       "        vertical-align: middle;\n",
       "    }\n",
       "\n",
       "    .dataframe tbody tr th {\n",
       "        vertical-align: top;\n",
       "    }\n",
       "\n",
       "    .dataframe thead th {\n",
       "        text-align: right;\n",
       "    }\n",
       "</style>\n",
       "<table border=\"1\" class=\"dataframe\">\n",
       "  <thead>\n",
       "    <tr style=\"text-align: right;\">\n",
       "      <th></th>\n",
       "      <th>date</th>\n",
       "      <th>datacount_for_customers</th>\n",
       "      <th>datacount</th>\n",
       "      <th>total_quantity</th>\n",
       "      <th>total_price</th>\n",
       "      <th>total_order</th>\n",
       "      <th>total_return_quantity</th>\n",
       "      <th>return_rate</th>\n",
       "      <th>average_order_value</th>\n",
       "      <th>average_units_ordered</th>\n",
       "      <th>return_customer_rate</th>\n",
       "      <th>unique_users</th>\n",
       "    </tr>\n",
       "  </thead>\n",
       "  <tbody>\n",
       "    <tr>\n",
       "      <th>0</th>\n",
       "      <td>2024-01-16</td>\n",
       "      <td>548.0</td>\n",
       "      <td>873.0</td>\n",
       "      <td>2776.0</td>\n",
       "      <td>599841.0</td>\n",
       "      <td>822.0</td>\n",
       "      <td>95.0</td>\n",
       "      <td>3.42</td>\n",
       "      <td>729.73</td>\n",
       "      <td>3.38</td>\n",
       "      <td>4.72</td>\n",
       "      <td>784</td>\n",
       "    </tr>\n",
       "    <tr>\n",
       "      <th>1</th>\n",
       "      <td>2024-01-17</td>\n",
       "      <td>1571.0</td>\n",
       "      <td>1626.0</td>\n",
       "      <td>2441.0</td>\n",
       "      <td>622940.0</td>\n",
       "      <td>1569.0</td>\n",
       "      <td>3379.0</td>\n",
       "      <td>138.43</td>\n",
       "      <td>397.03</td>\n",
       "      <td>1.56</td>\n",
       "      <td>132.99</td>\n",
       "      <td>673</td>\n",
       "    </tr>\n",
       "    <tr>\n",
       "      <th>2</th>\n",
       "      <td>2024-01-18</td>\n",
       "      <td>887.0</td>\n",
       "      <td>1187.0</td>\n",
       "      <td>4016.0</td>\n",
       "      <td>725918.0</td>\n",
       "      <td>1108.0</td>\n",
       "      <td>130.0</td>\n",
       "      <td>3.24</td>\n",
       "      <td>655.16</td>\n",
       "      <td>3.62</td>\n",
       "      <td>3.65</td>\n",
       "      <td>1068</td>\n",
       "    </tr>\n",
       "    <tr>\n",
       "      <th>3</th>\n",
       "      <td>2024-01-19</td>\n",
       "      <td>1037.0</td>\n",
       "      <td>1088.0</td>\n",
       "      <td>3479.0</td>\n",
       "      <td>659533.0</td>\n",
       "      <td>969.0</td>\n",
       "      <td>129.0</td>\n",
       "      <td>3.71</td>\n",
       "      <td>680.63</td>\n",
       "      <td>3.59</td>\n",
       "      <td>5.10</td>\n",
       "      <td>921</td>\n",
       "    </tr>\n",
       "  </tbody>\n",
       "</table>\n",
       "</div>"
      ],
      "text/plain": [
       "        date  datacount_for_customers  datacount  total_quantity  total_price  \\\n",
       "0 2024-01-16                    548.0      873.0          2776.0     599841.0   \n",
       "1 2024-01-17                   1571.0     1626.0          2441.0     622940.0   \n",
       "2 2024-01-18                    887.0     1187.0          4016.0     725918.0   \n",
       "3 2024-01-19                   1037.0     1088.0          3479.0     659533.0   \n",
       "\n",
       "   total_order  total_return_quantity  return_rate  average_order_value  \\\n",
       "0        822.0                   95.0         3.42               729.73   \n",
       "1       1569.0                 3379.0       138.43               397.03   \n",
       "2       1108.0                  130.0         3.24               655.16   \n",
       "3        969.0                  129.0         3.71               680.63   \n",
       "\n",
       "   average_units_ordered  return_customer_rate unique_users  \n",
       "0                   3.38                  4.72          784  \n",
       "1                   1.56                132.99          673  \n",
       "2                   3.62                  3.65         1068  \n",
       "3                   3.59                  5.10          921  "
      ]
     },
     "execution_count": 5,
     "metadata": {},
     "output_type": "execute_result"
    }
   ],
   "source": [
    "dff"
   ]
  },
  {
   "cell_type": "code",
   "execution_count": 22,
   "id": "79370f0f",
   "metadata": {},
   "outputs": [],
   "source": [
    "df_insights['date']='2024-01-16'"
   ]
  },
  {
   "cell_type": "code",
   "execution_count": 25,
   "id": "fa98ce88",
   "metadata": {},
   "outputs": [],
   "source": [
    "df_insights.drop('mssg',axis=1,inplace=True)"
   ]
  },
  {
   "cell_type": "code",
   "execution_count": 26,
   "id": "65257bbf",
   "metadata": {},
   "outputs": [
    {
     "data": {
      "text/html": [
       "<div>\n",
       "<style scoped>\n",
       "    .dataframe tbody tr th:only-of-type {\n",
       "        vertical-align: middle;\n",
       "    }\n",
       "\n",
       "    .dataframe tbody tr th {\n",
       "        vertical-align: top;\n",
       "    }\n",
       "\n",
       "    .dataframe thead th {\n",
       "        text-align: right;\n",
       "    }\n",
       "</style>\n",
       "<table border=\"1\" class=\"dataframe\">\n",
       "  <thead>\n",
       "    <tr style=\"text-align: right;\">\n",
       "      <th></th>\n",
       "      <th>datacount</th>\n",
       "      <th>datacount_for_customers</th>\n",
       "      <th>total_quantity</th>\n",
       "      <th>total_price</th>\n",
       "      <th>total_order</th>\n",
       "      <th>total_return_quantity</th>\n",
       "      <th>return_rate</th>\n",
       "      <th>average_order_value</th>\n",
       "      <th>average_units_ordered</th>\n",
       "      <th>return_customer_rate</th>\n",
       "      <th>unique_users</th>\n",
       "      <th>date</th>\n",
       "    </tr>\n",
       "  </thead>\n",
       "  <tbody>\n",
       "    <tr>\n",
       "      <th>0</th>\n",
       "      <td>822</td>\n",
       "      <td>548</td>\n",
       "      <td>2778</td>\n",
       "      <td>599841.0</td>\n",
       "      <td>822</td>\n",
       "      <td>93.0</td>\n",
       "      <td>3.35</td>\n",
       "      <td>729.73</td>\n",
       "      <td>3.38</td>\n",
       "      <td>4.72</td>\n",
       "      <td>784</td>\n",
       "      <td>2024-01-16</td>\n",
       "    </tr>\n",
       "  </tbody>\n",
       "</table>\n",
       "</div>"
      ],
      "text/plain": [
       "   datacount  datacount_for_customers  total_quantity  total_price  \\\n",
       "0        822                      548            2778     599841.0   \n",
       "\n",
       "   total_order  total_return_quantity  return_rate  average_order_value  \\\n",
       "0          822                   93.0         3.35               729.73   \n",
       "\n",
       "   average_units_ordered  return_customer_rate  unique_users        date  \n",
       "0                   3.38                  4.72           784  2024-01-16  "
      ]
     },
     "execution_count": 26,
     "metadata": {},
     "output_type": "execute_result"
    }
   ],
   "source": [
    "df_insights\n"
   ]
  },
  {
   "cell_type": "code",
   "execution_count": null,
   "id": "8857eaff",
   "metadata": {},
   "outputs": [],
   "source": []
  },
  {
   "cell_type": "code",
   "execution_count": 30,
   "id": "5f4062b3",
   "metadata": {},
   "outputs": [],
   "source": [
    "df_insights.to_sql(\n",
    "    name='bombayshavinginsights',\n",
    "    con=engine,\n",
    "    index=False,\n",
    "    if_exists='append'\n",
    ")"
   ]
  },
  {
   "cell_type": "code",
   "execution_count": 31,
   "id": "29f08643",
   "metadata": {},
   "outputs": [],
   "source": [
    "df_products=read_csv(\"top_products.csv\")"
   ]
  },
  {
   "cell_type": "code",
   "execution_count": 33,
   "id": "6d6d77ce",
   "metadata": {},
   "outputs": [],
   "source": [
    "df_products.rename(\n",
    "columns={\n",
    "    'node.title':'name',\n",
    "    'node.quantity':'quantity',\n",
    "    'node.originalTotal':'total_price'\n",
    "},\n",
    "    inplace=True\n",
    ")"
   ]
  },
  {
   "cell_type": "code",
   "execution_count": 34,
   "id": "46fb8743",
   "metadata": {},
   "outputs": [
    {
     "data": {
      "text/html": [
       "<div>\n",
       "<style scoped>\n",
       "    .dataframe tbody tr th:only-of-type {\n",
       "        vertical-align: middle;\n",
       "    }\n",
       "\n",
       "    .dataframe tbody tr th {\n",
       "        vertical-align: top;\n",
       "    }\n",
       "\n",
       "    .dataframe thead th {\n",
       "        text-align: right;\n",
       "    }\n",
       "</style>\n",
       "<table border=\"1\" class=\"dataframe\">\n",
       "  <thead>\n",
       "    <tr style=\"text-align: right;\">\n",
       "      <th></th>\n",
       "      <th>name</th>\n",
       "      <th>quantity</th>\n",
       "      <th>total_price</th>\n",
       "      <th>date</th>\n",
       "    </tr>\n",
       "  </thead>\n",
       "  <tbody>\n",
       "    <tr>\n",
       "      <th>0</th>\n",
       "      <td>5 in 1 Brightening Cream</td>\n",
       "      <td>24</td>\n",
       "      <td>5880.0</td>\n",
       "      <td>2024-01-16</td>\n",
       "    </tr>\n",
       "    <tr>\n",
       "      <th>1</th>\n",
       "      <td>5 in 1 Brightening Cream-</td>\n",
       "      <td>1</td>\n",
       "      <td>199.0</td>\n",
       "      <td>2024-01-16</td>\n",
       "    </tr>\n",
       "    <tr>\n",
       "      <th>2</th>\n",
       "      <td>6-in-1 Premium Shaving Kit For Men</td>\n",
       "      <td>2</td>\n",
       "      <td>6250.0</td>\n",
       "      <td>2024-01-16</td>\n",
       "    </tr>\n",
       "    <tr>\n",
       "      <th>3</th>\n",
       "      <td>6-in-1 Sensi Luxe Shaving Kit</td>\n",
       "      <td>10</td>\n",
       "      <td>19990.0</td>\n",
       "      <td>2024-01-16</td>\n",
       "    </tr>\n",
       "    <tr>\n",
       "      <th>4</th>\n",
       "      <td>Anti Acne Face Wash, 150g</td>\n",
       "      <td>31</td>\n",
       "      <td>10819.0</td>\n",
       "      <td>2024-01-16</td>\n",
       "    </tr>\n",
       "    <tr>\n",
       "      <th>...</th>\n",
       "      <td>...</td>\n",
       "      <td>...</td>\n",
       "      <td>...</td>\n",
       "      <td>...</td>\n",
       "    </tr>\n",
       "    <tr>\n",
       "      <th>136</th>\n",
       "      <td>Veleno Perfume, 30ml</td>\n",
       "      <td>22</td>\n",
       "      <td>17490.0</td>\n",
       "      <td>2024-01-16</td>\n",
       "    </tr>\n",
       "    <tr>\n",
       "      <th>137</th>\n",
       "      <td>Venice, 30ml</td>\n",
       "      <td>371</td>\n",
       "      <td>554645.0</td>\n",
       "      <td>2024-01-16</td>\n",
       "    </tr>\n",
       "    <tr>\n",
       "      <th>138</th>\n",
       "      <td>Vitamin C Face Serum, 30ML</td>\n",
       "      <td>62</td>\n",
       "      <td>36890.0</td>\n",
       "      <td>2024-01-16</td>\n",
       "    </tr>\n",
       "    <tr>\n",
       "      <th>139</th>\n",
       "      <td>Wanderlust Perfume Kit For Men</td>\n",
       "      <td>1</td>\n",
       "      <td>1495.0</td>\n",
       "      <td>2024-01-16</td>\n",
       "    </tr>\n",
       "    <tr>\n",
       "      <th>140</th>\n",
       "      <td>razor cartridges</td>\n",
       "      <td>1</td>\n",
       "      <td>285.0</td>\n",
       "      <td>2024-01-16</td>\n",
       "    </tr>\n",
       "  </tbody>\n",
       "</table>\n",
       "<p>141 rows × 4 columns</p>\n",
       "</div>"
      ],
      "text/plain": [
       "                                   name  quantity  total_price        date\n",
       "0              5 in 1 Brightening Cream        24       5880.0  2024-01-16\n",
       "1             5 in 1 Brightening Cream-         1        199.0  2024-01-16\n",
       "2    6-in-1 Premium Shaving Kit For Men         2       6250.0  2024-01-16\n",
       "3         6-in-1 Sensi Luxe Shaving Kit        10      19990.0  2024-01-16\n",
       "4             Anti Acne Face Wash, 150g        31      10819.0  2024-01-16\n",
       "..                                  ...       ...          ...         ...\n",
       "136                Veleno Perfume, 30ml        22      17490.0  2024-01-16\n",
       "137                        Venice, 30ml       371     554645.0  2024-01-16\n",
       "138          Vitamin C Face Serum, 30ML        62      36890.0  2024-01-16\n",
       "139      Wanderlust Perfume Kit For Men         1       1495.0  2024-01-16\n",
       "140                    razor cartridges         1        285.0  2024-01-16\n",
       "\n",
       "[141 rows x 4 columns]"
      ]
     },
     "execution_count": 34,
     "metadata": {},
     "output_type": "execute_result"
    }
   ],
   "source": [
    "df_products"
   ]
  },
  {
   "cell_type": "code",
   "execution_count": 35,
   "id": "d294bba7",
   "metadata": {},
   "outputs": [],
   "source": [
    "df_products.to_sql(\n",
    "    name='bombayshavingtop_products',\n",
    "    con=engine,\n",
    "    index=False,\n",
    "    if_exists='append'\n",
    ")"
   ]
  },
  {
   "cell_type": "code",
   "execution_count": 36,
   "id": "b25d7507",
   "metadata": {},
   "outputs": [],
   "source": [
    "df_ret_products=read_csv(\"top_return_products.csv\")"
   ]
  },
  {
   "cell_type": "code",
   "execution_count": 38,
   "id": "e26a6d58",
   "metadata": {},
   "outputs": [],
   "source": [
    "df_ret_products.rename(\n",
    "    columns={\n",
    "        'node.name':'name',\n",
    "        'diff':'return_quantity'\n",
    "    },\n",
    "    inplace=True\n",
    ")"
   ]
  },
  {
   "cell_type": "code",
   "execution_count": 40,
   "id": "586615f1",
   "metadata": {},
   "outputs": [],
   "source": [
    "df_ret_products.drop(columns=['node.currentQuantity','node.quantity'],inplace=True)"
   ]
  },
  {
   "cell_type": "code",
   "execution_count": 41,
   "id": "02af0963",
   "metadata": {},
   "outputs": [
    {
     "data": {
      "text/html": [
       "<div>\n",
       "<style scoped>\n",
       "    .dataframe tbody tr th:only-of-type {\n",
       "        vertical-align: middle;\n",
       "    }\n",
       "\n",
       "    .dataframe tbody tr th {\n",
       "        vertical-align: top;\n",
       "    }\n",
       "\n",
       "    .dataframe thead th {\n",
       "        text-align: right;\n",
       "    }\n",
       "</style>\n",
       "<table border=\"1\" class=\"dataframe\">\n",
       "  <thead>\n",
       "    <tr style=\"text-align: right;\">\n",
       "      <th></th>\n",
       "      <th>name</th>\n",
       "      <th>return_quantity</th>\n",
       "      <th>date</th>\n",
       "    </tr>\n",
       "  </thead>\n",
       "  <tbody>\n",
       "    <tr>\n",
       "      <th>0</th>\n",
       "      <td>Anti Acne Face Wash, 150g</td>\n",
       "      <td>1</td>\n",
       "      <td>2024-01-16</td>\n",
       "    </tr>\n",
       "    <tr>\n",
       "      <th>1</th>\n",
       "      <td>Bearberry Body Yogurt</td>\n",
       "      <td>1</td>\n",
       "      <td>2024-01-16</td>\n",
       "    </tr>\n",
       "    <tr>\n",
       "      <th>2</th>\n",
       "      <td>Beard Shaper Tool</td>\n",
       "      <td>1</td>\n",
       "      <td>2024-01-16</td>\n",
       "    </tr>\n",
       "    <tr>\n",
       "      <th>3</th>\n",
       "      <td>Black Vibe Deo For Men, 150ml</td>\n",
       "      <td>1</td>\n",
       "      <td>2024-01-16</td>\n",
       "    </tr>\n",
       "    <tr>\n",
       "      <th>4</th>\n",
       "      <td>Charcoal Bath Soap, 100g (Pack of 3)</td>\n",
       "      <td>2</td>\n",
       "      <td>2024-01-16</td>\n",
       "    </tr>\n",
       "    <tr>\n",
       "      <th>5</th>\n",
       "      <td>Charcoal Face Sheet Mask (Pack of 2)</td>\n",
       "      <td>2</td>\n",
       "      <td>2024-01-16</td>\n",
       "    </tr>\n",
       "    <tr>\n",
       "      <th>6</th>\n",
       "      <td>Charcoal Face Wash, 100g</td>\n",
       "      <td>3</td>\n",
       "      <td>2024-01-16</td>\n",
       "    </tr>\n",
       "    <tr>\n",
       "      <th>7</th>\n",
       "      <td>Charcoal Hair Removal Spray, 200ml</td>\n",
       "      <td>4</td>\n",
       "      <td>2024-01-16</td>\n",
       "    </tr>\n",
       "    <tr>\n",
       "      <th>8</th>\n",
       "      <td>Charcoal Shaving Foam, 425g</td>\n",
       "      <td>2</td>\n",
       "      <td>2024-01-16</td>\n",
       "    </tr>\n",
       "    <tr>\n",
       "      <th>9</th>\n",
       "      <td>Charcoal Shower Gel, 250ml</td>\n",
       "      <td>1</td>\n",
       "      <td>2024-01-16</td>\n",
       "    </tr>\n",
       "    <tr>\n",
       "      <th>10</th>\n",
       "      <td>Coffee Face Scrub, 100g</td>\n",
       "      <td>2</td>\n",
       "      <td>2024-01-16</td>\n",
       "    </tr>\n",
       "    <tr>\n",
       "      <th>11</th>\n",
       "      <td>Coffee Face Wash, 100g</td>\n",
       "      <td>4</td>\n",
       "      <td>2024-01-16</td>\n",
       "    </tr>\n",
       "    <tr>\n",
       "      <th>12</th>\n",
       "      <td>Deep Clean Face &amp; Body Wash</td>\n",
       "      <td>2</td>\n",
       "      <td>2024-01-16</td>\n",
       "    </tr>\n",
       "    <tr>\n",
       "      <th>13</th>\n",
       "      <td>Free Gift (Use within 3 months)</td>\n",
       "      <td>31</td>\n",
       "      <td>2024-01-16</td>\n",
       "    </tr>\n",
       "    <tr>\n",
       "      <th>14</th>\n",
       "      <td>Full Body Trimmer</td>\n",
       "      <td>1</td>\n",
       "      <td>2024-01-16</td>\n",
       "    </tr>\n",
       "    <tr>\n",
       "      <th>15</th>\n",
       "      <td>Landscaper 2.0 Groin Trimmer</td>\n",
       "      <td>1</td>\n",
       "      <td>2024-01-16</td>\n",
       "    </tr>\n",
       "    <tr>\n",
       "      <th>16</th>\n",
       "      <td>Mexico, 100 ml</td>\n",
       "      <td>2</td>\n",
       "      <td>2024-01-16</td>\n",
       "    </tr>\n",
       "    <tr>\n",
       "      <th>17</th>\n",
       "      <td>Moisturising Face &amp; Body Wash-</td>\n",
       "      <td>1</td>\n",
       "      <td>2024-01-16</td>\n",
       "    </tr>\n",
       "    <tr>\n",
       "      <th>18</th>\n",
       "      <td>Oudh Body Spray, 150ml</td>\n",
       "      <td>2</td>\n",
       "      <td>2024-01-16</td>\n",
       "    </tr>\n",
       "    <tr>\n",
       "      <th>19</th>\n",
       "      <td>Post Shave Balm ,100g</td>\n",
       "      <td>1</td>\n",
       "      <td>2024-01-16</td>\n",
       "    </tr>\n",
       "    <tr>\n",
       "      <th>20</th>\n",
       "      <td>Power Styler Beard Trimmer</td>\n",
       "      <td>7</td>\n",
       "      <td>2024-01-16</td>\n",
       "    </tr>\n",
       "    <tr>\n",
       "      <th>21</th>\n",
       "      <td>Pre-Shave Scrub</td>\n",
       "      <td>1</td>\n",
       "      <td>2024-01-16</td>\n",
       "    </tr>\n",
       "    <tr>\n",
       "      <th>22</th>\n",
       "      <td>Precision Safety Razor - Silver Edition</td>\n",
       "      <td>1</td>\n",
       "      <td>2024-01-16</td>\n",
       "    </tr>\n",
       "    <tr>\n",
       "      <th>23</th>\n",
       "      <td>Red Spice Deo For Men, 150ml</td>\n",
       "      <td>2</td>\n",
       "      <td>2024-01-16</td>\n",
       "    </tr>\n",
       "    <tr>\n",
       "      <th>24</th>\n",
       "      <td>Sensi Flo6 Razor &amp; Cartridges (Pack of 2)</td>\n",
       "      <td>1</td>\n",
       "      <td>2024-01-16</td>\n",
       "    </tr>\n",
       "    <tr>\n",
       "      <th>25</th>\n",
       "      <td>Sensi Smart3 Razor &amp; Cartridges (Pack of 2)</td>\n",
       "      <td>1</td>\n",
       "      <td>2024-01-16</td>\n",
       "    </tr>\n",
       "    <tr>\n",
       "      <th>26</th>\n",
       "      <td>Sensi Smart3 Razor &amp; Cartridges (Pack of 4)</td>\n",
       "      <td>1</td>\n",
       "      <td>2024-01-16</td>\n",
       "    </tr>\n",
       "    <tr>\n",
       "      <th>27</th>\n",
       "      <td>Shea Butter Moisturizer, 100ml</td>\n",
       "      <td>1</td>\n",
       "      <td>2024-01-16</td>\n",
       "    </tr>\n",
       "    <tr>\n",
       "      <th>28</th>\n",
       "      <td>Spice Body Spray, 150ml</td>\n",
       "      <td>2</td>\n",
       "      <td>2024-01-16</td>\n",
       "    </tr>\n",
       "    <tr>\n",
       "      <th>29</th>\n",
       "      <td>Tokyo, 100 ml</td>\n",
       "      <td>1</td>\n",
       "      <td>2024-01-16</td>\n",
       "    </tr>\n",
       "    <tr>\n",
       "      <th>30</th>\n",
       "      <td>Travel Kit</td>\n",
       "      <td>1</td>\n",
       "      <td>2024-01-16</td>\n",
       "    </tr>\n",
       "    <tr>\n",
       "      <th>31</th>\n",
       "      <td>Turmeric Face Wash, 100g</td>\n",
       "      <td>1</td>\n",
       "      <td>2024-01-16</td>\n",
       "    </tr>\n",
       "    <tr>\n",
       "      <th>32</th>\n",
       "      <td>Turmeric Shaving Cream, 78g</td>\n",
       "      <td>1</td>\n",
       "      <td>2024-01-16</td>\n",
       "    </tr>\n",
       "    <tr>\n",
       "      <th>33</th>\n",
       "      <td>Veleno Perfume, 30ml</td>\n",
       "      <td>1</td>\n",
       "      <td>2024-01-16</td>\n",
       "    </tr>\n",
       "    <tr>\n",
       "      <th>34</th>\n",
       "      <td>Venice, 30ml</td>\n",
       "      <td>7</td>\n",
       "      <td>2024-01-16</td>\n",
       "    </tr>\n",
       "    <tr>\n",
       "      <th>35</th>\n",
       "      <td>Wanderlust Perfume Kit For Men</td>\n",
       "      <td>1</td>\n",
       "      <td>2024-01-16</td>\n",
       "    </tr>\n",
       "  </tbody>\n",
       "</table>\n",
       "</div>"
      ],
      "text/plain": [
       "                                           name  return_quantity        date\n",
       "0                     Anti Acne Face Wash, 150g                1  2024-01-16\n",
       "1                         Bearberry Body Yogurt                1  2024-01-16\n",
       "2                             Beard Shaper Tool                1  2024-01-16\n",
       "3                 Black Vibe Deo For Men, 150ml                1  2024-01-16\n",
       "4          Charcoal Bath Soap, 100g (Pack of 3)                2  2024-01-16\n",
       "5          Charcoal Face Sheet Mask (Pack of 2)                2  2024-01-16\n",
       "6                      Charcoal Face Wash, 100g                3  2024-01-16\n",
       "7            Charcoal Hair Removal Spray, 200ml                4  2024-01-16\n",
       "8                   Charcoal Shaving Foam, 425g                2  2024-01-16\n",
       "9                    Charcoal Shower Gel, 250ml                1  2024-01-16\n",
       "10                      Coffee Face Scrub, 100g                2  2024-01-16\n",
       "11                       Coffee Face Wash, 100g                4  2024-01-16\n",
       "12                  Deep Clean Face & Body Wash                2  2024-01-16\n",
       "13              Free Gift (Use within 3 months)               31  2024-01-16\n",
       "14                            Full Body Trimmer                1  2024-01-16\n",
       "15                 Landscaper 2.0 Groin Trimmer                1  2024-01-16\n",
       "16                               Mexico, 100 ml                2  2024-01-16\n",
       "17               Moisturising Face & Body Wash-                1  2024-01-16\n",
       "18                       Oudh Body Spray, 150ml                2  2024-01-16\n",
       "19                        Post Shave Balm ,100g                1  2024-01-16\n",
       "20                   Power Styler Beard Trimmer                7  2024-01-16\n",
       "21                              Pre-Shave Scrub                1  2024-01-16\n",
       "22      Precision Safety Razor - Silver Edition                1  2024-01-16\n",
       "23                 Red Spice Deo For Men, 150ml                2  2024-01-16\n",
       "24    Sensi Flo6 Razor & Cartridges (Pack of 2)                1  2024-01-16\n",
       "25  Sensi Smart3 Razor & Cartridges (Pack of 2)                1  2024-01-16\n",
       "26  Sensi Smart3 Razor & Cartridges (Pack of 4)                1  2024-01-16\n",
       "27               Shea Butter Moisturizer, 100ml                1  2024-01-16\n",
       "28                      Spice Body Spray, 150ml                2  2024-01-16\n",
       "29                                Tokyo, 100 ml                1  2024-01-16\n",
       "30                                   Travel Kit                1  2024-01-16\n",
       "31                     Turmeric Face Wash, 100g                1  2024-01-16\n",
       "32                  Turmeric Shaving Cream, 78g                1  2024-01-16\n",
       "33                         Veleno Perfume, 30ml                1  2024-01-16\n",
       "34                                 Venice, 30ml                7  2024-01-16\n",
       "35               Wanderlust Perfume Kit For Men                1  2024-01-16"
      ]
     },
     "execution_count": 41,
     "metadata": {},
     "output_type": "execute_result"
    }
   ],
   "source": [
    "df_ret_products"
   ]
  },
  {
   "cell_type": "code",
   "execution_count": 43,
   "id": "4c083f6b",
   "metadata": {},
   "outputs": [],
   "source": [
    "df_ret_products.to_sql(\n",
    "    name='bombayshavingtop_return_products',\n",
    "    con=engine,\n",
    "    index=False,\n",
    "    if_exists='append',\n",
    "    \n",
    ")"
   ]
  },
  {
   "cell_type": "code",
   "execution_count": 44,
   "id": "ba4ce86c",
   "metadata": {},
   "outputs": [],
   "source": [
    "df_channels=read_csv(\"top_channels.csv\")"
   ]
  },
  {
   "cell_type": "code",
   "execution_count": 46,
   "id": "f753350c",
   "metadata": {},
   "outputs": [],
   "source": [
    "df_channels['date']='2024-01-16'"
   ]
  },
  {
   "cell_type": "code",
   "execution_count": 47,
   "id": "83325487",
   "metadata": {},
   "outputs": [
    {
     "data": {
      "text/html": [
       "<div>\n",
       "<style scoped>\n",
       "    .dataframe tbody tr th:only-of-type {\n",
       "        vertical-align: middle;\n",
       "    }\n",
       "\n",
       "    .dataframe tbody tr th {\n",
       "        vertical-align: top;\n",
       "    }\n",
       "\n",
       "    .dataframe thead th {\n",
       "        text-align: right;\n",
       "    }\n",
       "</style>\n",
       "<table border=\"1\" class=\"dataframe\">\n",
       "  <thead>\n",
       "    <tr style=\"text-align: right;\">\n",
       "      <th></th>\n",
       "      <th>channel_name</th>\n",
       "      <th>sold_quantity</th>\n",
       "      <th>date</th>\n",
       "    </tr>\n",
       "  </thead>\n",
       "  <tbody>\n",
       "    <tr>\n",
       "      <th>0</th>\n",
       "      <td>Not available</td>\n",
       "      <td>808</td>\n",
       "      <td>2024-01-16</td>\n",
       "    </tr>\n",
       "    <tr>\n",
       "      <th>1</th>\n",
       "      <td>Applbrew Plus</td>\n",
       "      <td>11</td>\n",
       "      <td>2024-01-16</td>\n",
       "    </tr>\n",
       "    <tr>\n",
       "      <th>2</th>\n",
       "      <td>Online Store</td>\n",
       "      <td>3</td>\n",
       "      <td>2024-01-16</td>\n",
       "    </tr>\n",
       "  </tbody>\n",
       "</table>\n",
       "</div>"
      ],
      "text/plain": [
       "    channel_name  sold_quantity        date\n",
       "0  Not available            808  2024-01-16\n",
       "1  Applbrew Plus             11  2024-01-16\n",
       "2   Online Store              3  2024-01-16"
      ]
     },
     "execution_count": 47,
     "metadata": {},
     "output_type": "execute_result"
    }
   ],
   "source": [
    "df_channels\n"
   ]
  },
  {
   "cell_type": "code",
   "execution_count": null,
   "id": "e744b06c",
   "metadata": {},
   "outputs": [],
   "source": []
  },
  {
   "cell_type": "code",
   "execution_count": 48,
   "id": "056ae5c1",
   "metadata": {},
   "outputs": [],
   "source": [
    "df_channels.to_sql(\n",
    "    name='bombayshavingtop_channels',\n",
    "    con=engine,\n",
    "    index=False,\n",
    "    if_exists='append'\n",
    "    )"
   ]
  },
  {
   "cell_type": "code",
   "execution_count": null,
   "id": "ce5d8de9",
   "metadata": {},
   "outputs": [],
   "source": [
    "shop=\"bombayshaving\""
   ]
  },
  {
   "cell_type": "code",
   "execution_count": 29,
   "id": "7789665e",
   "metadata": {},
   "outputs": [],
   "source": [
    "df=read_sql_query(\n",
    "    f'''\n",
    "        select \n",
    "    sum(datacount_for_customers) as a,\n",
    "    sum(datacount) as b,\n",
    "    sum(total_quantity) as c,\n",
    "    sum(total_price) as d,\n",
    "    sum(total_order) as e,\n",
    "    sum(total_return_quantity) as f,\n",
    "    sum(unique_users) as g,\n",
    "    sum(returned_users) as h\n",
    "     from\n",
    "    bombayshavinginsights\n",
    "    where date between \"2024-01-16\" and \"2024-01-18\"\n",
    "    ;\n",
    "    ''',\n",
    "    engine\n",
    "\n",
    ")"
   ]
  },
  {
   "cell_type": "code",
   "execution_count": 30,
   "id": "a216a3fd",
   "metadata": {},
   "outputs": [
    {
     "data": {
      "text/html": [
       "<div>\n",
       "<style scoped>\n",
       "    .dataframe tbody tr th:only-of-type {\n",
       "        vertical-align: middle;\n",
       "    }\n",
       "\n",
       "    .dataframe tbody tr th {\n",
       "        vertical-align: top;\n",
       "    }\n",
       "\n",
       "    .dataframe thead th {\n",
       "        text-align: right;\n",
       "    }\n",
       "</style>\n",
       "<table border=\"1\" class=\"dataframe\">\n",
       "  <thead>\n",
       "    <tr style=\"text-align: right;\">\n",
       "      <th></th>\n",
       "      <th>a</th>\n",
       "      <th>b</th>\n",
       "      <th>c</th>\n",
       "      <th>d</th>\n",
       "      <th>e</th>\n",
       "      <th>f</th>\n",
       "      <th>g</th>\n",
       "      <th>h</th>\n",
       "    </tr>\n",
       "  </thead>\n",
       "  <tbody>\n",
       "    <tr>\n",
       "      <th>0</th>\n",
       "      <td>3006.0</td>\n",
       "      <td>3686.0</td>\n",
       "      <td>9233.0</td>\n",
       "      <td>1.948699e+06</td>\n",
       "      <td>3499.0</td>\n",
       "      <td>3604.0</td>\n",
       "      <td>2525.0</td>\n",
       "      <td>971.0</td>\n",
       "    </tr>\n",
       "  </tbody>\n",
       "</table>\n",
       "</div>"
      ],
      "text/plain": [
       "        a       b       c             d       e       f       g      h\n",
       "0  3006.0  3686.0  9233.0  1.948699e+06  3499.0  3604.0  2525.0  971.0"
      ]
     },
     "execution_count": 30,
     "metadata": {},
     "output_type": "execute_result"
    }
   ],
   "source": [
    "df"
   ]
  },
  {
   "cell_type": "code",
   "execution_count": 31,
   "id": "7d4aea3a",
   "metadata": {},
   "outputs": [],
   "source": [
    "return_rate=round((df.loc[0].f/df.loc[0].c)*100,2)"
   ]
  },
  {
   "cell_type": "code",
   "execution_count": 32,
   "id": "27ff21ab",
   "metadata": {},
   "outputs": [],
   "source": [
    "average_order_value=round(df.loc[0].d/df.loc[0].e,2)"
   ]
  },
  {
   "cell_type": "code",
   "execution_count": 33,
   "id": "2f33a49e",
   "metadata": {},
   "outputs": [
    {
     "data": {
      "text/plain": [
       "556.93"
      ]
     },
     "execution_count": 33,
     "metadata": {},
     "output_type": "execute_result"
    }
   ],
   "source": [
    "average_order_value"
   ]
  },
  {
   "cell_type": "code",
   "execution_count": 34,
   "id": "ed1da956",
   "metadata": {},
   "outputs": [
    {
     "data": {
      "text/plain": [
       "2.64"
      ]
     },
     "execution_count": 34,
     "metadata": {},
     "output_type": "execute_result"
    }
   ],
   "source": [
    "average_units_ordered=round(df.loc[0].c/df.loc[0].e,2)\n",
    "average_units_ordered"
   ]
  },
  {
   "cell_type": "code",
   "execution_count": 35,
   "id": "4f47c450",
   "metadata": {},
   "outputs": [],
   "source": [
    "return_customer_rate=round((df.loc[0].h*100)/df.loc[0].g,2)"
   ]
  },
  {
   "cell_type": "code",
   "execution_count": null,
   "id": "d7f542c8",
   "metadata": {},
   "outputs": [],
   "source": []
  },
  {
   "cell_type": "code",
   "execution_count": 36,
   "id": "2ff935b9",
   "metadata": {},
   "outputs": [
    {
     "data": {
      "text/plain": [
       "38.46"
      ]
     },
     "execution_count": 36,
     "metadata": {},
     "output_type": "execute_result"
    }
   ],
   "source": [
    "return_customer_rate"
   ]
  },
  {
   "cell_type": "code",
   "execution_count": 37,
   "id": "35ed27f7",
   "metadata": {},
   "outputs": [],
   "source": [
    "insights={\n",
    "       'total_quantity':df.loc[0].c,\n",
    "        'total_price':df.loc[0].d,\n",
    "        'total_order':df.loc[0].e,\n",
    "        'total_return_quantity':df.loc[0].f,\n",
    "        'return_rate':round((df.loc[0].f/df.loc[0].c)*100,2),\n",
    "        'average_order_value':round(df.loc[0].d/df.loc[0].e,2),\n",
    "        'average_units_ordered':round(df.loc[0].c/df.loc[0].e,2),\n",
    "        'return_customer_rate':round((df.loc[0].h*100)/df.loc[0].g,2),\n",
    "        'returned_users':df.loc[0].h,\n",
    "        'unique_users':df.loc[0].g\n",
    "    \n",
    "}"
   ]
  },
  {
   "cell_type": "code",
   "execution_count": 38,
   "id": "fab0f48a",
   "metadata": {},
   "outputs": [
    {
     "data": {
      "text/plain": [
       "{'total_quantity': 9233.0,\n",
       " 'total_price': 1948699.1875,\n",
       " 'total_order': 3499.0,\n",
       " 'total_return_quantity': 3604.0,\n",
       " 'return_rate': 39.03,\n",
       " 'average_order_value': 556.93,\n",
       " 'average_units_ordered': 2.64,\n",
       " 'return_customer_rate': 38.46,\n",
       " 'returned_users': 971.0,\n",
       " 'unique_users': 2525.0}"
      ]
     },
     "execution_count": 38,
     "metadata": {},
     "output_type": "execute_result"
    }
   ],
   "source": [
    "insights"
   ]
  },
  {
   "cell_type": "code",
   "execution_count": 39,
   "id": "1f8c6a5a",
   "metadata": {},
   "outputs": [],
   "source": [
    "df=read_sql_query(\n",
    "    '''\n",
    "    select name,sum(quantity) as total_quantity,\n",
    "sum(total_price) as total_price\n",
    "from bombayshavingtop_products where date between \"2024-01-16\" and \"2024-01-18\"\n",
    "group by name\n",
    ";\n",
    "    ''',\n",
    "    engine\n",
    ")"
   ]
  },
  {
   "cell_type": "code",
   "execution_count": 40,
   "id": "e6c493a8",
   "metadata": {},
   "outputs": [
    {
     "data": {
      "text/html": [
       "<div>\n",
       "<style scoped>\n",
       "    .dataframe tbody tr th:only-of-type {\n",
       "        vertical-align: middle;\n",
       "    }\n",
       "\n",
       "    .dataframe tbody tr th {\n",
       "        vertical-align: top;\n",
       "    }\n",
       "\n",
       "    .dataframe thead th {\n",
       "        text-align: right;\n",
       "    }\n",
       "</style>\n",
       "<table border=\"1\" class=\"dataframe\">\n",
       "  <thead>\n",
       "    <tr style=\"text-align: right;\">\n",
       "      <th></th>\n",
       "      <th>name</th>\n",
       "      <th>total_quantity</th>\n",
       "      <th>total_price</th>\n",
       "    </tr>\n",
       "  </thead>\n",
       "  <tbody>\n",
       "    <tr>\n",
       "      <th>0</th>\n",
       "      <td>5 in 1 Brightening Cream</td>\n",
       "      <td>76.0</td>\n",
       "      <td>18620.0</td>\n",
       "    </tr>\n",
       "    <tr>\n",
       "      <th>1</th>\n",
       "      <td>6-in-1 Sensi Luxe Shaving Kit</td>\n",
       "      <td>16.0</td>\n",
       "      <td>31984.0</td>\n",
       "    </tr>\n",
       "    <tr>\n",
       "      <th>2</th>\n",
       "      <td>Anti Acne Face Wash, 150g</td>\n",
       "      <td>92.0</td>\n",
       "      <td>32108.0</td>\n",
       "    </tr>\n",
       "    <tr>\n",
       "      <th>3</th>\n",
       "      <td>Anti Redness Shave Gel, 100g</td>\n",
       "      <td>20.0</td>\n",
       "      <td>4500.0</td>\n",
       "    </tr>\n",
       "    <tr>\n",
       "      <th>4</th>\n",
       "      <td>Beard Shaper Tool</td>\n",
       "      <td>76.0</td>\n",
       "      <td>22724.0</td>\n",
       "    </tr>\n",
       "    <tr>\n",
       "      <th>...</th>\n",
       "      <td>...</td>\n",
       "      <td>...</td>\n",
       "      <td>...</td>\n",
       "    </tr>\n",
       "    <tr>\n",
       "      <th>194</th>\n",
       "      <td>Shaving Essential Kit</td>\n",
       "      <td>1.0</td>\n",
       "      <td>189.0</td>\n",
       "    </tr>\n",
       "    <tr>\n",
       "      <th>195</th>\n",
       "      <td>Spice Body Spray, 150ml-</td>\n",
       "      <td>4.0</td>\n",
       "      <td>996.0</td>\n",
       "    </tr>\n",
       "    <tr>\n",
       "      <th>196</th>\n",
       "      <td>Thank You-</td>\n",
       "      <td>1.0</td>\n",
       "      <td>99.0</td>\n",
       "    </tr>\n",
       "    <tr>\n",
       "      <th>197</th>\n",
       "      <td>Wanderlust Perfume Kit For Men-</td>\n",
       "      <td>1.0</td>\n",
       "      <td>599.0</td>\n",
       "    </tr>\n",
       "    <tr>\n",
       "      <th>198</th>\n",
       "      <td>With Love-</td>\n",
       "      <td>1.0</td>\n",
       "      <td>99.0</td>\n",
       "    </tr>\n",
       "  </tbody>\n",
       "</table>\n",
       "<p>199 rows × 3 columns</p>\n",
       "</div>"
      ],
      "text/plain": [
       "                                name  total_quantity  total_price\n",
       "0           5 in 1 Brightening Cream            76.0      18620.0\n",
       "1      6-in-1 Sensi Luxe Shaving Kit            16.0      31984.0\n",
       "2          Anti Acne Face Wash, 150g            92.0      32108.0\n",
       "3       Anti Redness Shave Gel, 100g            20.0       4500.0\n",
       "4                  Beard Shaper Tool            76.0      22724.0\n",
       "..                               ...             ...          ...\n",
       "194            Shaving Essential Kit             1.0        189.0\n",
       "195         Spice Body Spray, 150ml-             4.0        996.0\n",
       "196                       Thank You-             1.0         99.0\n",
       "197  Wanderlust Perfume Kit For Men-             1.0        599.0\n",
       "198                       With Love-             1.0         99.0\n",
       "\n",
       "[199 rows x 3 columns]"
      ]
     },
     "execution_count": 40,
     "metadata": {},
     "output_type": "execute_result"
    }
   ],
   "source": [
    "df"
   ]
  },
  {
   "cell_type": "code",
   "execution_count": 45,
   "id": "5c6745aa",
   "metadata": {},
   "outputs": [
    {
     "data": {
      "text/plain": [
       "['6-in-1 Premium Shaving Kit For Men With Silver Razor-S / Festive Green',\n",
       " 'Free Gift (Use within 3 months)',\n",
       " 'Venice, 30ml',\n",
       " 'Charcoal Face Scrub, 45g',\n",
       " 'Coffee Face Wash, 50g',\n",
       " 'Charcoal Face Sheet Mask',\n",
       " 'Oudh Body Spray, 150ml',\n",
       " 'Black Vibe Deo For Men, 150ml',\n",
       " 'Charcoal Bath Soap, 100g (Pack of 3)',\n",
       " 'Vitamin C Face Serum, 30ML']"
      ]
     },
     "execution_count": 45,
     "metadata": {},
     "output_type": "execute_result"
    }
   ],
   "source": [
    "list(df.sort_values('total_quantity',ascending=False).name[:10])"
   ]
  },
  {
   "cell_type": "code",
   "execution_count": 46,
   "id": "80bb3645",
   "metadata": {},
   "outputs": [
    {
     "data": {
      "text/plain": [
       "['Venice, 30ml',\n",
       " 'Veleno EDT, 100 ml',\n",
       " 'Power Styler Beard Trimmer',\n",
       " 'Vitamin C Face Serum, 30ML',\n",
       " 'Oudh Body Spray, 150ml',\n",
       " 'Premium MultiGroomer',\n",
       " 'Full Body Trimmer',\n",
       " 'Black Vibe Deo For Men, 150ml',\n",
       " 'Charcoal Hair Removal Spray, 200ml',\n",
       " 'Charcoal Bath Soap, 100g (Pack of 3)']"
      ]
     },
     "execution_count": 46,
     "metadata": {},
     "output_type": "execute_result"
    }
   ],
   "source": [
    "list(df.sort_values('total_price',ascending=False).name[:10])"
   ]
  },
  {
   "cell_type": "code",
   "execution_count": 50,
   "id": "4777e7d5",
   "metadata": {},
   "outputs": [],
   "source": [
    "\n",
    "\n",
    "dict_obj={'name': ['twwefwe'], 'category': ['MARKETING'], 'language': ['en'], 'components': ['[{\"type\":\"HEADER\",\"format\":\"IMAGE\",\"example\":{\"header_handle\":[\"blob:http://localhost:3000/1707f162-d62f-4601-8a99-7c31bd67e759\"]}},{\"type\":\"BODY\",\"text\":\"wef wefwe we wefw few we we ewf we\"},{\"type\":\"BUTTONS\",\"buttons\":[{\"type\":\"PHONE_NUMBER\",\"text\":\"Call Us\",\"phone_number\":\"+3555645645645\"},{\"type\":\"URL\",\"text\":\"Visit\",\"url\":\"wefewfwef\"}]},{\"type\":\"FOOTER\",\"text\":\"wef wef wef wef ewf ewf ewf ewf ewfew few f\"}]']}"
   ]
  },
  {
   "cell_type": "code",
   "execution_count": 51,
   "id": "528bd618",
   "metadata": {},
   "outputs": [
    {
     "data": {
      "text/plain": [
       "{'name': ['twwefwe'],\n",
       " 'category': ['MARKETING'],\n",
       " 'language': ['en'],\n",
       " 'components': ['[{\"type\":\"HEADER\",\"format\":\"IMAGE\",\"example\":{\"header_handle\":[\"blob:http://localhost:3000/1707f162-d62f-4601-8a99-7c31bd67e759\"]}},{\"type\":\"BODY\",\"text\":\"wef wefwe we wefw few we we ewf we\"},{\"type\":\"BUTTONS\",\"buttons\":[{\"type\":\"PHONE_NUMBER\",\"text\":\"Call Us\",\"phone_number\":\"+3555645645645\"},{\"type\":\"URL\",\"text\":\"Visit\",\"url\":\"wefewfwef\"}]},{\"type\":\"FOOTER\",\"text\":\"wef wef wef wef ewf ewf ewf ewf ewfew few f\"}]']}"
      ]
     },
     "execution_count": 51,
     "metadata": {},
     "output_type": "execute_result"
    }
   ],
   "source": [
    "dict_obj"
   ]
  },
  {
   "cell_type": "code",
   "execution_count": 53,
   "id": "6b5d4330",
   "metadata": {},
   "outputs": [],
   "source": [
    "payload={\"name\": \"ergerger\", \"category\": \"MARKETING\", \"language\": \"en\", \"components\": \"[{\\\"type\\\":\\\"HEADER\\\",\\\"format\\\":\\\"IMAGE\\\",\\\"example\\\":{\\\"header_handle\\\":[\\\"blob:http://localhost:3000/a10b2e48-77c0-4ae5-978b-21c01899a9c3\\\"]}},{\\\"type\\\":\\\"BODY\\\",\\\"text\\\":\\\"eregrerg\\\"},{\\\"type\\\":\\\"FOOTER\\\",\\\"text\\\":\\\"ergegr\\\"}]\"}"
   ]
  },
  {
   "cell_type": "code",
   "execution_count": 57,
   "id": "585e8fba",
   "metadata": {},
   "outputs": [
    {
     "data": {
      "text/plain": [
       "{'name': 'ergerger',\n",
       " 'category': 'MARKETING',\n",
       " 'language': 'en',\n",
       " 'components': '[{\"type\":\"HEADER\",\"format\":\"IMAGE\",\"example\":{\"header_handle\":[\"blob:http://localhost:3000/a10b2e48-77c0-4ae5-978b-21c01899a9c3\"]}},{\"type\":\"BODY\",\"text\":\"eregrerg\"},{\"type\":\"FOOTER\",\"text\":\"ergegr\"}]'}"
      ]
     },
     "execution_count": 57,
     "metadata": {},
     "output_type": "execute_result"
    }
   ],
   "source": [
    "payload"
   ]
  },
  {
   "cell_type": "code",
   "execution_count": 59,
   "id": "fa0dd7cf",
   "metadata": {},
   "outputs": [],
   "source": [
    "import json"
   ]
  },
  {
   "cell_type": "code",
   "execution_count": 69,
   "id": "1ce64434",
   "metadata": {},
   "outputs": [
    {
     "name": "stdout",
     "output_type": "stream",
     "text": [
      "{\"name\": [\"twwefwe\"], \"category\": [\"MARKETING\"], \"language\": [\"en\"], \"components\": [\"[{\\\"type\\\":\\\"HEADER\\\",\\\"format\\\":\\\"IMAGE\\\",\\\"example\\\":{\\\"header_handle\\\":[\\\"blob:http://localhost:3000/1707f162-d62f-4601-8a99-7c31bd67e759\\\"]}},{\\\"type\\\":\\\"BODY\\\",\\\"text\\\":\\\"wef wefwe we wefw few we we ewf we\\\"},{\\\"type\\\":\\\"BUTTONS\\\",\\\"buttons\\\":[{\\\"type\\\":\\\"PHONE_NUMBER\\\",\\\"text\\\":\\\"Call Us\\\",\\\"phone_number\\\":\\\"+3555645645645\\\"},{\\\"type\\\":\\\"URL\\\",\\\"text\\\":\\\"Visit\\\",\\\"url\\\":\\\"wefewfwef\\\"}]},{\\\"type\\\":\\\"FOOTER\\\",\\\"text\\\":\\\"wef wef wef wef ewf ewf ewf ewf ewfew few f\\\"}]\"]}\n"
     ]
    }
   ],
   "source": [
    "print(json.dumps(dict_obj))"
   ]
  },
  {
   "cell_type": "code",
   "execution_count": 72,
   "id": "089d5fb5",
   "metadata": {},
   "outputs": [
    {
     "data": {
      "text/plain": [
       "[{'type': 'HEADER',\n",
       "  'format': 'IMAGE',\n",
       "  'example': {'header_handle': ['blob:http://localhost:3000/1707f162-d62f-4601-8a99-7c31bd67e759']}},\n",
       " {'type': 'BODY', 'text': 'wef wefwe we wefw few we we ewf we'},\n",
       " {'type': 'BUTTONS',\n",
       "  'buttons': [{'type': 'PHONE_NUMBER',\n",
       "    'text': 'Call Us',\n",
       "    'phone_number': '+3555645645645'},\n",
       "   {'type': 'URL', 'text': 'Visit', 'url': 'wefewfwef'}]},\n",
       " {'type': 'FOOTER', 'text': 'wef wef wef wef ewf ewf ewf ewf ewfew few f'}]"
      ]
     },
     "execution_count": 72,
     "metadata": {},
     "output_type": "execute_result"
    }
   ],
   "source": [
    "json.loads(dict_obj['components'][0])"
   ]
  },
  {
   "cell_type": "code",
   "execution_count": null,
   "id": "7490f2ba",
   "metadata": {},
   "outputs": [],
   "source": [
    "select name ,sum(return_quantity) as total_return_quantity\n",
    "from bombayshavingtop_return_products\n",
    "where date between \"2024-01-16\" and \"2024-01-18\" and name not like \"FRee%\"\n",
    "group by name\n",
    "order by total_return_quantity desc;"
   ]
  },
  {
   "cell_type": "code",
   "execution_count": 74,
   "id": "2ed5729b",
   "metadata": {},
   "outputs": [],
   "source": [
    "df=read_sql_query(\n",
    "    '''\n",
    "  select name ,sum(return_quantity) as total_return_quantity\n",
    "from bombayshavingtop_return_products\n",
    "where date between \"2024-01-16\" and \"2024-01-18\" and name not like \"FRee%\"\n",
    "group by name\n",
    "order by total_return_quantity desc;\n",
    "    ''',\n",
    "    engine\n",
    ")"
   ]
  },
  {
   "cell_type": "code",
   "execution_count": 80,
   "id": "e111d2a4",
   "metadata": {},
   "outputs": [
    {
     "data": {
      "text/plain": [
       "['6-in-1 Premium Shaving Kit For Men With Silver Razor-S / Festive Green - S / Festive Green',\n",
       " 'Venice, 30ml',\n",
       " 'Power Styler Beard Trimmer',\n",
       " 'Coffee Face Wash, 50g',\n",
       " 'Charcoal Face Scrub, 45g',\n",
       " 'Charcoal Hair Removal Spray, 200ml',\n",
       " 'Charcoal Face Sheet Mask',\n",
       " 'Travel Kit-',\n",
       " 'Black Vibe Deo For Men, 150ml',\n",
       " 'Charcoal Bath Soap, 100g (Pack of 3)']"
      ]
     },
     "execution_count": 80,
     "metadata": {},
     "output_type": "execute_result"
    }
   ],
   "source": [
    "list(df.name[:10])"
   ]
  },
  {
   "cell_type": "code",
   "execution_count": null,
   "id": "d2caef0f",
   "metadata": {},
   "outputs": [],
   "source": []
  }
 ],
 "metadata": {
  "kernelspec": {
   "display_name": "Python 3",
   "language": "python",
   "name": "python3"
  },
  "language_info": {
   "codemirror_mode": {
    "name": "ipython",
    "version": 3
   },
   "file_extension": ".py",
   "mimetype": "text/x-python",
   "name": "python",
   "nbconvert_exporter": "python",
   "pygments_lexer": "ipython3",
   "version": "3.6.9"
  }
 },
 "nbformat": 4,
 "nbformat_minor": 5
}
